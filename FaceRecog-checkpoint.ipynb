{
 "cells": [
  {
   "cell_type": "code",
   "execution_count": 1,
   "metadata": {
    "colab": {
     "base_uri": "https://localhost:8080/",
     "height": 374
    },
    "executionInfo": {
     "elapsed": 4001,
     "status": "error",
     "timestamp": 1646754455185,
     "user": {
      "displayName": "Navya Srivastava",
      "photoUrl": "https://lh3.googleusercontent.com/a-/AOh14Gj1fv1K9Q3CuovJAnby5fvksG_ZTviDKqAxKCPETQ=s64",
      "userId": "10191260073433165449"
     },
     "user_tz": -330
    },
    "id": "t4I4eCGPDfCZ",
    "outputId": "c8126bef-071a-4c30-b156-724d452052c0"
   },
   "outputs": [
    {
     "ename": "ModuleNotFoundError",
     "evalue": "No module named 'keras'",
     "output_type": "error",
     "traceback": [
      "\u001b[1;31m---------------------------------------------------------------------------\u001b[0m",
      "\u001b[1;31mModuleNotFoundError\u001b[0m                       Traceback (most recent call last)",
      "\u001b[1;32m~\\AppData\\Local\\Temp/ipykernel_9744/1393290235.py\u001b[0m in \u001b[0;36m<module>\u001b[1;34m\u001b[0m\n\u001b[1;32m----> 1\u001b[1;33m \u001b[1;32mimport\u001b[0m \u001b[0mkeras\u001b[0m\u001b[1;33m\u001b[0m\u001b[1;33m\u001b[0m\u001b[0m\n\u001b[0m\u001b[0;32m      2\u001b[0m \u001b[1;32mfrom\u001b[0m \u001b[0mkeras\u001b[0m\u001b[1;33m.\u001b[0m\u001b[0mmodels\u001b[0m \u001b[1;32mimport\u001b[0m \u001b[0mSequential\u001b[0m\u001b[1;33m\u001b[0m\u001b[1;33m\u001b[0m\u001b[0m\n\u001b[0;32m      3\u001b[0m \u001b[1;32mfrom\u001b[0m \u001b[0mkeras\u001b[0m\u001b[1;33m.\u001b[0m\u001b[0mlayers\u001b[0m \u001b[1;32mimport\u001b[0m \u001b[0mConv2D\u001b[0m\u001b[1;33m,\u001b[0m \u001b[0mMaxPooling2D\u001b[0m\u001b[1;33m,\u001b[0m \u001b[0mDense\u001b[0m\u001b[1;33m,\u001b[0m \u001b[0mFlatten\u001b[0m\u001b[1;33m,\u001b[0m \u001b[0mDropout\u001b[0m\u001b[1;33m\u001b[0m\u001b[1;33m\u001b[0m\u001b[0m\n\u001b[0;32m      4\u001b[0m \u001b[1;32mfrom\u001b[0m \u001b[0mkeras\u001b[0m\u001b[1;33m.\u001b[0m\u001b[0moptimizers\u001b[0m \u001b[1;32mimport\u001b[0m \u001b[0mAdam\u001b[0m\u001b[1;33m\u001b[0m\u001b[1;33m\u001b[0m\u001b[0m\n\u001b[0;32m      5\u001b[0m \u001b[1;32mfrom\u001b[0m \u001b[0mkeras\u001b[0m\u001b[1;33m.\u001b[0m\u001b[0mcallbacks\u001b[0m \u001b[1;32mimport\u001b[0m \u001b[0mTensorBoard\u001b[0m\u001b[1;33m\u001b[0m\u001b[1;33m\u001b[0m\u001b[0m\n",
      "\u001b[1;31mModuleNotFoundError\u001b[0m: No module named 'keras'"
     ]
    }
   ],
   "source": [
    "import keras\n",
    "from keras.models import Sequential\n",
    "from keras.layers import Conv2D, MaxPooling2D, Dense, Flatten, Dropout\n",
    "from keras.optimizers import Adam\n",
    "from keras.callbacks import TensorBoard\n",
    "\n",
    "import numpy as np\n",
    "import pandas as pd\n",
    "import matplotlib.pyplot as plt\n",
    "%matplotlib inline\n",
    "from sklearn.model_selection import train_test_split\n",
    "\n",
    "from sklearn.metrics import confusion_matrix\n",
    "from sklearn.metrics import classification_report\n",
    "from sklearn.metrics import roc_curve, auc\n",
    "from sklearn.metrics import accuracy_score\n",
    "from keras.utils import np_utils\n",
    "import itertools"
   ]
  },
  {
   "cell_type": "code",
   "execution_count": null,
   "metadata": {
    "executionInfo": {
     "elapsed": 8,
     "status": "aborted",
     "timestamp": 1646754455181,
     "user": {
      "displayName": "Navya Srivastava",
      "photoUrl": "https://lh3.googleusercontent.com/a-/AOh14Gj1fv1K9Q3CuovJAnby5fvksG_ZTviDKqAxKCPETQ=s64",
      "userId": "10191260073433165449"
     },
     "user_tz": -330
    },
    "id": "V-aSuHavM2zV"
   },
   "outputs": [],
   "source": [
    "from google.colab import drive\n",
    "drive.mount('/content/drive')"
   ]
  },
  {
   "cell_type": "code",
   "execution_count": null,
   "metadata": {
    "executionInfo": {
     "elapsed": 9,
     "status": "aborted",
     "timestamp": 1646754455182,
     "user": {
      "displayName": "Navya Srivastava",
      "photoUrl": "https://lh3.googleusercontent.com/a-/AOh14Gj1fv1K9Q3CuovJAnby5fvksG_ZTviDKqAxKCPETQ=s64",
      "userId": "10191260073433165449"
     },
     "user_tz": -330
    },
    "id": "TvDXGdRnM8b6"
   },
   "outputs": [],
   "source": [
    "import os\n",
    "print(os.listdir('/content/drive/My Drive/FaceRecData'))"
   ]
  },
  {
   "cell_type": "code",
   "execution_count": null,
   "metadata": {
    "executionInfo": {
     "elapsed": 9,
     "status": "aborted",
     "timestamp": 1646754455182,
     "user": {
      "displayName": "Navya Srivastava",
      "photoUrl": "https://lh3.googleusercontent.com/a-/AOh14Gj1fv1K9Q3CuovJAnby5fvksG_ZTviDKqAxKCPETQ=s64",
      "userId": "10191260073433165449"
     },
     "user_tz": -330
    },
    "id": "ISnkF6CzNF9y"
   },
   "outputs": [],
   "source": [
    "import seaborn as sns\n",
    "from tqdm import tqdm\n",
    "from keras.utils import to_categorical\n",
    "from matplotlib import style\n",
    "import cv2\n",
    "from sklearn.model_selection import train_test_split\n",
    "from sklearn.metrics import accuracy_score,precision_score,recall_score,confusion_matrix,roc_curve,roc_auc_score\n",
    "from sklearn.preprocessing import LabelEncoder"
   ]
  },
  {
   "cell_type": "code",
   "execution_count": null,
   "metadata": {
    "executionInfo": {
     "elapsed": 8,
     "status": "aborted",
     "timestamp": 1646754455182,
     "user": {
      "displayName": "Navya Srivastava",
      "photoUrl": "https://lh3.googleusercontent.com/a-/AOh14Gj1fv1K9Q3CuovJAnby5fvksG_ZTviDKqAxKCPETQ=s64",
      "userId": "10191260073433165449"
     },
     "user_tz": -330
    },
    "id": "isiKrK79NW1e"
   },
   "outputs": [],
   "source": [
    "X=[]\n",
    "Z=[]\n",
    "IMG_SIZE=128\n",
    "\n",
    "NAVYA='/content/drive/My Drive/FaceRecData/RUPESH'\n",
    "VIVEK = '/content/drive/My Drive/FaceRecData/IMAGES_NAVYA'\n",
    "YASH = '/content/drive/My Drive/FaceRecData/yash'\n",
    "AALOK='/content/drive/My Drive/FaceRecData/Aalok Nautiyal_'\n",
    "SHASHI = '/content/drive/My Drive/FaceRecData/Shashi gif_'\n",
    "KAIF = '/content/drive/My Drive/FaceRecData/Mohd Kaif khan'"
   ]
  },
  {
   "cell_type": "code",
   "execution_count": null,
   "metadata": {
    "executionInfo": {
     "elapsed": 8,
     "status": "aborted",
     "timestamp": 1646754455182,
     "user": {
      "displayName": "Navya Srivastava",
      "photoUrl": "https://lh3.googleusercontent.com/a-/AOh14Gj1fv1K9Q3CuovJAnby5fvksG_ZTviDKqAxKCPETQ=s64",
      "userId": "10191260073433165449"
     },
     "user_tz": -330
    },
    "id": "q7vozY7BNvtL"
   },
   "outputs": [],
   "source": [
    "def assign_label(img,name):\n",
    "    return name"
   ]
  },
  {
   "cell_type": "code",
   "execution_count": null,
   "metadata": {
    "executionInfo": {
     "elapsed": 9,
     "status": "aborted",
     "timestamp": 1646754455183,
     "user": {
      "displayName": "Rupesh Nandan Yadav",
      "photoUrl": "https://lh3.googleusercontent.com/a-/AOh14Gj1fv1K9Q3CuovJAnby5fvksG_ZTviDKqAxKCPETQ=s64",
      "userId": "10191260073433165449"
     },
     "user_tz": -330
    },
    "id": "d-CmqF8sN0J3"
   },
   "outputs": [],
   "source": [
    "def make_train_data(name,DIR):\n",
    "    for img in tqdm(os.listdir(DIR)):\n",
    "        label=assign_label(img,name)\n",
    "        path = os.path.join(DIR,img)\n",
    "        img = cv2.imread(path,cv2.IMREAD_COLOR)\n",
    "        img = cv2.resize(img, (IMG_SIZE,IMG_SIZE))\n",
    "        \n",
    "        X.append(np.array(img))\n",
    "        Z.append(str(label))"
   ]
  },
  {
   "cell_type": "code",
   "execution_count": null,
   "metadata": {
    "executionInfo": {
     "elapsed": 9,
     "status": "aborted",
     "timestamp": 1646754455183,
     "user": {
      "displayName": "Rupesh Nandan Yadav",
      "photoUrl": "https://lh3.googleusercontent.com/a-/AOh14Gj1fv1K9Q3CuovJAnby5fvksG_ZTviDKqAxKCPETQ=s64",
      "userId": "10191260073433165449"
     },
     "user_tz": -330
    },
    "id": "jpeAWFX7N38R"
   },
   "outputs": [],
   "source": [
    "make_train_data('Rupesh',RUPESH)\n",
    "print(len(X))\n",
    "make_train_data('Vivek', VIVEK)\n",
    "print(len(X))\n",
    "make_train_data('Yash', YASH)\n",
    "print(len(X))\n",
    "make_train_data('Aalok',AALOK)\n",
    "print(len(X))\n",
    "make_train_data('Shashi', SHASHI)\n",
    "print(len(X))\n",
    "make_train_data('Kaif', KAIF)\n",
    "print(len(X))"
   ]
  },
  {
   "cell_type": "code",
   "execution_count": null,
   "metadata": {
    "executionInfo": {
     "elapsed": 9,
     "status": "aborted",
     "timestamp": 1646754455183,
     "user": {
      "displayName": "Navya Srivastava",
      "photoUrl": "https://lh3.googleusercontent.com/a-/AOh14Gj1fv1K9Q3CuovJAnby5fvksG_ZTviDKqAxKCPETQ=s64",
      "userId": "10191260073433165449"
     },
     "user_tz": -330
    },
    "id": "bjACS6dlROxA"
   },
   "outputs": [],
   "source": [
    "le=LabelEncoder()\n",
    "Y=le.fit_transform(Z)\n",
    "Y=to_categorical(Y,7)\n",
    "X=np.array(X)\n",
    "X=X/255\n",
    "x_train,x_test,y_train,y_test=train_test_split(X,Y,test_size=0.25,random_state=42)"
   ]
  },
  {
   "cell_type": "code",
   "execution_count": null,
   "metadata": {
    "executionInfo": {
     "elapsed": 9,
     "status": "aborted",
     "timestamp": 1646754455183,
     "user": {
      "displayName": "Rupesh Nandan Yadav",
      "photoUrl": "https://lh3.googleusercontent.com/a-/AOh14Gj1fv1K9Q3CuovJAnby5fvksG_ZTviDKqAxKCPETQ=s64",
      "userId": "10191260073433165449"
     },
     "user_tz": -330
    },
    "id": "jQmX57yjZEVs"
   },
   "outputs": [],
   "source": [
    "print('Training Dataset Shape: ­{}'.format(X.shape))\n",
    "print('No. of Training Dataset Labels: {}'.format(len(Y)))"
   ]
  },
  {
   "cell_type": "code",
   "execution_count": null,
   "metadata": {
    "executionInfo": {
     "elapsed": 10,
     "status": "aborted",
     "timestamp": 1646754455184,
     "user": {
      "displayName": "Navya Srivastava",
      "photoUrl": "https://lh3.googleusercontent.com/a-/AOh14Gj1fv1K9Q3CuovJAnby5fvksG_ZTviDKqAxKCPETQ=s64",
      "userId": "10191260073433165449"
     },
     "user_tz": -330
    },
    "id": "WDvi0g4oSKhs"
   },
   "outputs": [],
   "source": [
    "plt.imshow(X[19])\n",
    "print(Y[19])"
   ]
  },
  {
   "cell_type": "code",
   "execution_count": null,
   "metadata": {
    "executionInfo": {
     "elapsed": 9,
     "status": "aborted",
     "timestamp": 1646754455184,
     "user": {
      "displayName": "Navya Srivastava",
      "photoUrl": "https://lh3.googleusercontent.com/a-/AOh14Gj1fv1K9Q3CuovJAnby5fvksG_ZTviDKqAxKCPETQ=s64",
      "userId": "10191260073433165449"
     },
     "user_tz": -330
    },
    "id": "QnBrNOlUS3rU"
   },
   "outputs": [],
   "source": [
    "from keras.layers import Dense, Conv2D, Flatten, MaxPooling2D, Dropout\n",
    "from keras.models import Sequential\n",
    "from tensorflow.keras import layers\n",
    "from tensorflow.keras import regularizers\n",
    "model = Sequential()\n",
    "#Layer 1\n",
    "model.add(Conv2D(28, kernel_size=3, activation='relu', input_shape=(250, 250, 3),strides=(2,2)))\n",
    "model.add(MaxPooling2D((2,2)))\n",
    "model.add(Dropout(0.3))\n",
    " \n",
    "#Layer 2\n",
    "model.add(Conv2D(32, kernel_size=3, activation='relu'))\n",
    "model.add(MaxPooling2D((2,2)))\n",
    "model.add(Dropout(0.4))\n",
    "#Layer 3\n",
    " \n",
    "model.add(Conv2D(64, kernel_size=3, activation='relu'))\n",
    "model.add(MaxPooling2D((2,2)))\n",
    "model.add(Dropout(0.5))\n",
    "#Layer 4\n",
    "model.add(Conv2D(128, kernel_size=3, activation='relu'))\n",
    "model.add(MaxPooling2D((2,2)))\n",
    " \n",
    "#Input to Neural Network is flattened\n",
    "model.add(Flatten())\n",
    "#1st hidden layer with 512 neurons/nodes\n",
    "model.add(Dense(512, activation='relu'))\n",
    "model.add(Dropout(0.6))\n",
    "\n",
    "model.add(Dense(7, activation='softmax'))\n",
    "\n",
    "model.summary()\n",
    "\n"
   ]
  },
  {
   "cell_type": "code",
   "execution_count": null,
   "metadata": {
    "executionInfo": {
     "elapsed": 9,
     "status": "aborted",
     "timestamp": 1646754455184,
     "user": {
      "displayName": "Navya Srivastava",
      "photoUrl": "https://lh3.googleusercontent.com/a-/AOh14Gj1fv1K9Q3CuovJAnby5fvksG_ZTviDKqAxKCPETQ=s64",
      "userId": "10191260073433165449"
     },
     "user_tz": -330
    },
    "id": "jBIof5ALT3Rq"
   },
   "outputs": [],
   "source": [
    "batch_size=300\n",
    "epochs=10\n",
    "\n",
    "\n",
    "from keras.callbacks import ReduceLROnPlateau\n",
    "red_lr= ReduceLROnPlateau(monitor='val_acc',patience=3,verbose=1,factor=0.1)"
   ]
  },
  {
   "cell_type": "code",
   "execution_count": null,
   "metadata": {
    "executionInfo": {
     "elapsed": 9,
     "status": "aborted",
     "timestamp": 1646754455184,
     "user": {
      "displayName": "Navya Srivastava",
      "photoUrl": "https://lh3.googleusercontent.com/a-/AOh14Gj1fv1K9Q3CuovJAnby5fvksG_ZTviDKqAxKCPETQ=s64",
      "userId": "10191260073433165449"
     },
     "user_tz": -330
    },
    "id": "mVMhDgLmT7II"
   },
   "outputs": [],
   "source": [
    "from keras.preprocessing.image import ImageDataGenerator\n",
    "datagen = ImageDataGenerator(\n",
    "        featurewise_center=False,  # set input mean to 0 over the dataset\n",
    "        samplewise_center=False,  # set each sample mean to 0\n",
    "        featurewise_std_normalization=False,  # divide inputs by std of the dataset\n",
    "        samplewise_std_normalization=False,  # divide each input by its std\n",
    "        zca_whitening=False,  # apply ZCA whitening\n",
    "        rotation_range=10,  # randomly rotate images in the range (degrees, 0 to 180)\n",
    "        zoom_range = 0.1, # Randomly zoom image \n",
    "        width_shift_range=0.2,  # randomly shift images horizontally (fraction of total width)\n",
    "        height_shift_range=0.2,  # randomly shift images vertically (fraction of total height)\n",
    "        horizontal_flip=True,  # randomly flip images\n",
    "        vertical_flip=False)  # randomly flip images\n",
    "\n",
    "\n",
    "datagen.fit(x_train)\n"
   ]
  },
  {
   "cell_type": "code",
   "execution_count": null,
   "metadata": {
    "executionInfo": {
     "elapsed": 10,
     "status": "aborted",
     "timestamp": 1646754455185,
     "user": {
      "displayName": "Navya Srivastava",
      "photoUrl": "https://lh3.googleusercontent.com/a-/AOh14Gj1fv1K9Q3CuovJAnby5fvksG_ZTviDKqAxKCPETQ=s64",
      "userId": "10191260073433165449"
     },
     "user_tz": -330
    },
    "id": "o8qdRmPST-SR"
   },
   "outputs": [],
   "source": [
    "model.compile(optimizer='adam',\n",
    "              loss='categorical_crossentropy',\n",
    "              metrics=['accuracy'])\n",
    "History = model.fit(x_train,y_train,epochs=epochs,batch_size=batch_size,validation_data = (x_test,y_test))"
   ]
  },
  {
   "cell_type": "code",
   "execution_count": null,
   "metadata": {
    "executionInfo": {
     "elapsed": 10,
     "status": "aborted",
     "timestamp": 1646754455185,
     "user": {
      "displayName": "Navya Srivastava",
      "photoUrl": "https://lh3.googleusercontent.com/a-/AOh14Gj1fv1K9Q3CuovJAnby5fvksG_ZTviDKqAxKCPETQ=s64",
      "userId": "10191260073433165449"
     },
     "user_tz": -330
    },
    "id": "6zujm5F3V0wJ"
   },
   "outputs": [],
   "source": [
    "plt.plot(History.history['accuracy'])\n",
    "plt.plot(History.history['val_accuracy'])\n",
    "plt.legend(('Training Accuracy', 'Validation accuracy'))\n",
    "plt.ylabel('Accuracy')\n",
    "plt.xlabel('Number of Epochs')\n",
    "plt.show()\n",
    "\n",
    "plt.plot(History.history['loss'])\n",
    "plt.plot(History.history['val_loss'])\n",
    "plt.legend(('Training Loss', 'Validation Loss'))\n",
    "plt.ylabel('Loss')\n",
    "plt.xlabel('Number of Epochs')\n",
    "plt.show()"
   ]
  },
  {
   "cell_type": "code",
   "execution_count": null,
   "metadata": {
    "executionInfo": {
     "elapsed": 10,
     "status": "aborted",
     "timestamp": 1646754455185,
     "user": {
      "displayName": "Navya Srivastava",
      "photoUrl": "https://lh3.googleusercontent.com/a-/AOh14Gj1fv1K9Q3CuovJAnby5fvksG_ZTviDKqAxKCPETQ=s64",
      "userId": "10191260073433165449"
     },
     "user_tz": -330
    },
    "id": "DN91hOaIWE8G"
   },
   "outputs": [],
   "source": [
    "model.save('model.h5')\n",
    "print('model saved')"
   ]
  },
  {
   "cell_type": "code",
   "execution_count": 2,
   "metadata": {
    "executionInfo": {
     "elapsed": 10,
     "status": "aborted",
     "timestamp": 1646754455185,
     "user": {
      "displayName": "Navya Srivastava",
      "photoUrl": "https://lh3.googleusercontent.com/a-/AOh14Gj1fv1K9Q3CuovJAnby5fvksG_ZTviDKqAxKCPETQ=s64",
      "userId": "10191260073433165449"
     },
     "user_tz": -330
    },
    "id": "XFVc21GwXZlw"
   },
   "outputs": [
    {
     "ename": "ModuleNotFoundError",
     "evalue": "No module named 'keras'",
     "output_type": "error",
     "traceback": [
      "\u001b[1;31m---------------------------------------------------------------------------\u001b[0m",
      "\u001b[1;31mModuleNotFoundError\u001b[0m                       Traceback (most recent call last)",
      "\u001b[1;32m~\\AppData\\Local\\Temp/ipykernel_9744/1601999492.py\u001b[0m in \u001b[0;36m<module>\u001b[1;34m\u001b[0m\n\u001b[1;32m----> 1\u001b[1;33m \u001b[1;32mfrom\u001b[0m \u001b[0mkeras\u001b[0m\u001b[1;33m.\u001b[0m\u001b[0mmodels\u001b[0m \u001b[1;32mimport\u001b[0m \u001b[0mload_model\u001b[0m\u001b[1;33m\u001b[0m\u001b[1;33m\u001b[0m\u001b[0m\n\u001b[0m\u001b[0;32m      2\u001b[0m \u001b[0mmodel\u001b[0m \u001b[1;33m=\u001b[0m \u001b[0mload_model\u001b[0m\u001b[1;33m(\u001b[0m\u001b[1;34m\"model.h5\"\u001b[0m\u001b[1;33m)\u001b[0m\u001b[1;33m\u001b[0m\u001b[1;33m\u001b[0m\u001b[0m\n\u001b[0;32m      3\u001b[0m \u001b[1;33m\u001b[0m\u001b[0m\n\u001b[0;32m      4\u001b[0m \u001b[0mscore\u001b[0m \u001b[1;33m=\u001b[0m \u001b[0mmodel\u001b[0m\u001b[1;33m.\u001b[0m\u001b[0mevaluate\u001b[0m\u001b[1;33m(\u001b[0m\u001b[0mx_test\u001b[0m\u001b[1;33m,\u001b[0m \u001b[0my_test\u001b[0m\u001b[1;33m)\u001b[0m\u001b[1;33m\u001b[0m\u001b[1;33m\u001b[0m\u001b[0m\n\u001b[0;32m      5\u001b[0m \u001b[1;33m\u001b[0m\u001b[0m\n",
      "\u001b[1;31mModuleNotFoundError\u001b[0m: No module named 'keras'"
     ]
    }
   ],
   "source": [
    "from keras.models import load_model\n",
    "model = load_model(\"model.h5\")\n",
    " \n",
    "score = model.evaluate(x_test, y_test)\n",
    " \n",
    "print('Test loss:', score[0]) \n",
    "print('Test accuracy:', score[1])\n",
    " \n",
    "#Predict output on sample input data\n",
    "pred = model.predict(x_test) \n",
    "pred = np.argmax(pred, axis = 1)[:10] \n",
    "label = np.argmax(y_test,axis = 1)[:10] \n",
    " \n",
    "print(\"Predicted labels:\",pred) \n",
    "print(\"Actual Labels:   \",label)"
   ]
  },
  {
   "cell_type": "code",
   "execution_count": null,
   "metadata": {},
   "outputs": [],
   "source": []
  }
 ],
 "metadata": {
  "accelerator": "GPU",
  "colab": {
   "authorship_tag": "ABX9TyM62ohbnyr+yX7pIQLgac8Y",
   "collapsed_sections": [],
   "mount_file_id": "1UgKXRQuta0WL1Le1laXjTnmngNq0tRLN",
   "name": "FaceRecog.ipynb",
   "provenance": []
  },
  "kernelspec": {
   "display_name": "Python 3 (ipykernel)",
   "language": "python",
   "name": "python3"
  },
  "language_info": {
   "codemirror_mode": {
    "name": "ipython",
    "version": 3
   },
   "file_extension": ".py",
   "mimetype": "text/x-python",
   "name": "python",
   "nbconvert_exporter": "python",
   "pygments_lexer": "ipython3",
   "version": "3.9.7"
  }
 },
 "nbformat": 4,
 "nbformat_minor": 1
}
